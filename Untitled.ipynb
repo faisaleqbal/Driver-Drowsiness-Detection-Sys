{
 "cells": [
  {
   "cell_type": "code",
   "execution_count": null,
   "id": "a975609a-76d8-4204-bf7a-8e95114c7251",
   "metadata": {},
   "outputs": [],
   "source": []
  }
 ],
 "metadata": {
  "kernelspec": {
   "display_name": "",
   "name": ""
  },
  "language_info": {
   "name": ""
  }
 },
 "nbformat": 4,
 "nbformat_minor": 5
}
